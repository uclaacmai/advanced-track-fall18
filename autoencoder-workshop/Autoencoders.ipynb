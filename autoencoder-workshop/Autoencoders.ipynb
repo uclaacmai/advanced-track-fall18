{
 "cells": [
  {
   "cell_type": "markdown",
   "metadata": {},
   "source": [
    "### Building Autoencoders\n",
    "\n",
    "In this workshop, we will look at three different types of autoencoders - a simple autoencoder used for data compression, a sparse autoencoder used for data compression and sparse feature learning, and a variational autoencoder, a generative model used to generate new samples similar to our dataset. Let's get started!\n"
   ]
  },
  {
   "cell_type": "markdown",
   "metadata": {},
   "source": [
    "####  Vanilla Autoencoder\n"
   ]
  }
 ],
 "metadata": {
  "kernelspec": {
   "display_name": "Python 3",
   "language": "python",
   "name": "python3"
  },
  "language_info": {
   "codemirror_mode": {
    "name": "ipython",
    "version": 3
   },
   "file_extension": ".py",
   "mimetype": "text/x-python",
   "name": "python",
   "nbconvert_exporter": "python",
   "pygments_lexer": "ipython3",
   "version": "3.5.0"
  }
 },
 "nbformat": 4,
 "nbformat_minor": 2
}
